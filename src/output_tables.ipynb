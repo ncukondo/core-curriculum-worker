{
 "cells": [
  {
   "cell_type": "code",
   "execution_count": null,
   "metadata": {},
   "outputs": [],
   "source": [
    "import os\n",
    "import re\n",
    "import pandas as pd\n",
    "from lib.dataframe_to_table import make_latex_table\n",
    "from lib.dataframe_to_table import make_html_table\n",
    "from textwrap import dedent\n",
    "from collections import namedtuple\n",
    "import glob\n",
    "\n",
    "from lib.utils import DATA_DIR,TABLES_DIR,OUTPUT_DIR,TABLES_INDEX\n",
    "\n",
    "with open(f\"{DATA_DIR}/outcomes.md\",\"r\") as f:\n",
    "    outcomes_md = f.read()\n",
    "\n",
    "\n",
    "os.makedirs(OUTPUT_DIR,exist_ok=True)\n",
    "\n",
    "def make_table_dict():\n",
    "    \"\"\"\n",
    "    get tables dict[id,content] of tex and html\n",
    "    \"\"\"\n",
    "    table_index = pd.read_csv(f'{TABLES_INDEX}',encoding=\"utf_8_sig\").fillna(\"\")\n",
    "    Tables = namedtuple('Tables', ('tex', 'html'))\n",
    "\n",
    "    tex_dict = {}\n",
    "    html_dict = {}\n",
    "    for row in table_index.itertuples():\n",
    "        table = pd.read_csv(f\"{TABLES_DIR}/{row.id}.csv\")\n",
    "        table = table.loc[:,re.split(r\" *, *\",row.列)]\n",
    "\n",
    "        tex_dict[row.id]=make_latex_table(table,\n",
    "            label=row.id,\n",
    "            group_rows=True,\n",
    "            caption=row.表名,\n",
    "            layout=row.レイアウト)\n",
    "        html_dict[row.id]=make_html_table(table,group_rows=True)\n",
    "    return Tables(tex_dict,html_dict)\n",
    "\n",
    "table_ids = []\n",
    "def ditect_table_fn(reg):\n",
    "    global table_ids\n",
    "    s=reg.group(1)\n",
    "    table_ids.append(s)\n",
    "\n",
    "re.sub(r\"\\[@tbl:([^\\]]+)\\]\",ditect_table_fn,outcomes_md)\n",
    "table_ids = list(dict.fromkeys(table_ids))\n",
    "table_dicts= make_table_dict()\n",
    "latex_tables = \"\\n\\n\".join(list(map(lambda id:table_dicts.tex[id],table_ids)))\n",
    "html_tables = \"\\n\\n\".join(list(map(lambda id:table_dicts.html[id],table_ids)))\n",
    "\n",
    "with open(f\"{OUTPUT_DIR}/tables.tex\",\"w\") as f:\n",
    "    f.write(latex_tables)\n",
    "\n",
    "with open(f\"{OUTPUT_DIR}/tables.html\",\"w\") as f:\n",
    "    f.write(html_tables)\n",
    "\n"
   ]
  }
 ],
 "metadata": {
  "interpreter": {
   "hash": "949777d72b0d2535278d3dc13498b2535136f6dfe0678499012e853ee9abcab1"
  },
  "kernelspec": {
   "display_name": "Python 3.10.3 64-bit",
   "language": "python",
   "name": "python3"
  },
  "language_info": {
   "codemirror_mode": {
    "name": "ipython",
    "version": 3
   },
   "file_extension": ".py",
   "mimetype": "text/x-python",
   "name": "python",
   "nbconvert_exporter": "python",
   "pygments_lexer": "ipython3",
   "version": "3.10.3"
  }
 },
 "nbformat": 4,
 "nbformat_minor": 2
}
