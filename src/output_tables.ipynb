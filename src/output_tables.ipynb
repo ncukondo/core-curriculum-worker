{
 "cells": [
  {
   "cell_type": "code",
   "execution_count": null,
   "metadata": {},
   "outputs": [],
   "source": [
    "import os\n",
    "import re\n",
    "import pandas as pd\n",
    "from lib.dataframe_to_table import make_latex_table\n",
    "from lib.dataframe_to_table import make_html_table\n",
    "from textwrap import dedent\n",
    "import glob\n",
    "\n",
    "from lib.utils import DATA_DIR,TABLES_DIR,OUTPUT_DIR,TABLES_INDEX\n",
    "\n",
    "os.makedirs(OUTPUT_DIR,exist_ok=True)\n",
    "\n",
    "def output_tables():\n",
    "    table_index = pd.read_csv(f'{TABLES_INDEX}',encoding=\"utf_8_sig\").fillna(\"\")\n",
    "\n",
    "    latex_output=\"\"\n",
    "    html_output=\"\"\n",
    "    for row in table_index.itertuples():\n",
    "        table = pd.read_csv(f\"{TABLES_DIR}/{row.id}.csv\")\n",
    "        table = table.loc[:,re.split(r\" *, *\",row.列)]\n",
    "\n",
    "        latex_output+=make_latex_table(table,label=row.id,group_rows=True,caption=row.表名,layout=row.レイアウト)+\"\\n\\n\"\n",
    "        html_output+=make_html_table(table,group_rows=True)+\"\\n\\n\"\n",
    "\n",
    "    with open(f\"{OUTPUT_DIR}/tables.tex\",\"w\") as f:\n",
    "        f.write(latex_output)\n",
    "    with open(f\"{OUTPUT_DIR}/tables.html\",\"w\") as f:\n",
    "        f.write(html_output)\n",
    "\n",
    "    print(\"output... tables.tex\")\n",
    "    print(\"output... tables.html\")\n",
    "\n",
    "output_tables()\n"
   ]
  }
 ],
 "metadata": {
  "interpreter": {
   "hash": "d4d1e4263499bec80672ea0156c357c1ee493ec2b1c70f0acce89fc37c4a6abe"
  },
  "kernelspec": {
   "display_name": "Python 3.9.7 ('base')",
   "language": "python",
   "name": "python3"
  },
  "language_info": {
   "codemirror_mode": {
    "name": "ipython",
    "version": 3
   },
   "file_extension": ".py",
   "mimetype": "text/x-python",
   "name": "python",
   "nbconvert_exporter": "python",
   "pygments_lexer": "ipython3",
   "version": "3.10.3"
  }
 },
 "nbformat": 4,
 "nbformat_minor": 2
}
