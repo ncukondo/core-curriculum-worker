{
 "cells": [
  {
   "cell_type": "code",
   "execution_count": null,
   "metadata": {},
   "outputs": [],
   "source": [
    "import os\n",
    "from lib.utils import OUTPUT_DIR,DATA_DIR,GDRIVE_OUTPUT_FOLDER\n",
    "\n",
    "\n",
    "from lib.google_drive import from_service_account\n",
    "\n",
    "folder_id=GDRIVE_OUTPUT_FOLDER\n",
    "\n",
    "drive = from_service_account()\n",
    "file_list= [\n",
    "    f\"{OUTPUT_DIR}/outcomes.pdf\",\n",
    "    f\"{OUTPUT_DIR}/core_curriculum.pdf\",\n",
    "    f\"{OUTPUT_DIR}/core_curriculum.docx\",\n",
    "    f\"{OUTPUT_DIR}/outcomes.docx\",\n",
    "    f\"{OUTPUT_DIR}/statistics_new_items.csv\",\n",
    "    f\"{OUTPUT_DIR}/statistics_removed_ids.csv\",\n",
    "    f\"{OUTPUT_DIR}/statistics_item_counts.csv\",\n",
    "    f\"{OUTPUT_DIR}/statistics_h28_to_r4.csv\",\n",
    "    f\"{DATA_DIR}/2016/goals.csv\",\n",
    "]\n",
    "for file_path in file_list:\n",
    "    root, ext = os.path.splitext(file_path)\n",
    "    mimeType= \"\"\n",
    "    exclude_ext=False\n",
    "    if ext==\".csv\":\n",
    "        mimeType= 'application/vnd.google-apps.spreadsheet'\n",
    "        exclude_ext=True\n",
    "    id=drive.update_by_name(file_path,folder_id,target_mime_type=mimeType,exclude_ext=exclude_ext)\n",
    "    print(f\"deploy {os.path.basename(file_path)} as {id}\")"
   ]
  }
 ],
 "metadata": {
  "kernelspec": {
   "display_name": "Python 3.10.3 64-bit",
   "language": "python",
   "name": "python3"
  },
  "language_info": {
   "codemirror_mode": {
    "name": "ipython",
    "version": 3
   },
   "file_extension": ".py",
   "mimetype": "text/x-python",
   "name": "python",
   "nbconvert_exporter": "python",
   "pygments_lexer": "ipython3",
   "version": "3.10.3"
  },
  "vscode": {
   "interpreter": {
    "hash": "949777d72b0d2535278d3dc13498b2535136f6dfe0678499012e853ee9abcab1"
   }
  }
 },
 "nbformat": 4,
 "nbformat_minor": 2
}
