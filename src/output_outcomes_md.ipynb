{
 "cells": [
  {
   "cell_type": "code",
   "execution_count": null,
   "metadata": {},
   "outputs": [],
   "source": [
    "import pandas as pd\n",
    "import os\n",
    "from lib.utils import BASE_DIR,DATA_DIR,OUTPUT_DIR,get_full_outcomes\n",
    "\n",
    "from lib.dataframe_to_text import dataframe_to_text\n",
    "\n",
    "\n",
    "r4=get_full_outcomes()\n",
    "r4 = r4.replace({\"<\":\"(\",\">\":\")\"},regex=True)\n",
    "\n",
    "r4_to_md=pd.DataFrame(data=[],columns=[\"l1\",\"l2\",\"l3\",\"l4\"])\n",
    "r4_to_md[\"l1\"]=\"\\n\"+\"## \"+r4[\"l1_index\"]+\": \"+r4[\"l1\"]+\"\\n\\n\"+r4[\"l1_desc\"]+\"\\n\"\n",
    "r4_to_md[\"l2\"]=\"\\n\"+\"### \"+r4[\"l2_index\"]+\": \"+r4[\"l2\"]+\"\\n\\n\"+r4[\"l2_desc\"]+\"\\n\"\n",
    "r4_to_md[\"l3\"]=\"\\n\"+\"#### \"+r4[\"l3_index\"]+\": \"+r4[\"l3\"]+\"\\n\"\n",
    "r4_to_md[\"l4\"]=\"- \"+r4[\"l4_index\"]+\" \"+r4[\"l4\"]\n",
    "r4_to_md=r4_to_md.dropna(subset=[\"l1\",\"l2\",\"l3\",\"l4\"])\n",
    "\n",
    "\n",
    "r4_md = dataframe_to_text(r4_to_md)\n",
    "\n",
    "os.makedirs(OUTPUT_DIR,exist_ok=True)\n",
    "with open(f\"{OUTPUT_DIR}/outcomes.md\",\"w\") as f:\n",
    "    f.write(r4_md)\n",
    "print(f\"output... {OUTPUT_DIR}/outcomes.md\")\n"
   ]
  },
  {
   "cell_type": "code",
   "execution_count": null,
   "metadata": {},
   "outputs": [],
   "source": [
    "r4_to_md_l1=pd.DataFrame(data=[],columns=[\"l1\"])\n",
    "r4_to_md_l1[\"l1\"]=\"\\n\"+\"## \"+r4[\"l1_index\"]+\": \"+r4[\"l1\"]+\" (\"+r4[\"l1_spell\"]+\")\\n\\n\"+r4[\"l1_desc\"]+\"\\n\"\n",
    "r4_to_md_l1=r4_to_md_l1.dropna(subset=[\"l1\"]).drop_duplicates()\n",
    "\n",
    "with open(os.path.join(DATA_DIR,\"outcomes_preamble.md\"),\"r\") as f:\n",
    "    preamble = f.read()\n",
    "with open(f\"{OUTPUT_DIR}/outcomes_preamble.md\",\"w\") as f:\n",
    "    f.write(preamble)\n",
    "\n",
    "print(\"output... ./dist/outcomes_preamble.md\")\n",
    "\n",
    "\n",
    "r4_md_l1 = preamble+\"\\n\\n\"+dataframe_to_text(r4_to_md_l1)\n",
    "\n",
    "with open(f\"{OUTPUT_DIR}/outcomes_l1.md\",\"w\") as f:\n",
    "    f.write(r4_md_l1)\n",
    "print(\"output... ./dist/outcomes_l1.md\")\n"
   ]
  }
 ],
 "metadata": {
  "interpreter": {
   "hash": "949777d72b0d2535278d3dc13498b2535136f6dfe0678499012e853ee9abcab1"
  },
  "kernelspec": {
   "display_name": "Python 3.10.3 64-bit",
   "language": "python",
   "name": "python3"
  },
  "language_info": {
   "codemirror_mode": {
    "name": "ipython",
    "version": 3
   },
   "file_extension": ".py",
   "mimetype": "text/x-python",
   "name": "python",
   "nbconvert_exporter": "python",
   "pygments_lexer": "ipython3",
   "version": "3.10.3"
  }
 },
 "nbformat": 4,
 "nbformat_minor": 2
}
