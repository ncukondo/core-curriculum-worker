{
 "cells": [
  {
   "cell_type": "code",
   "execution_count": null,
   "metadata": {},
   "outputs": [],
   "source": [
    "from os import path\n",
    "import re\n",
    "import os\n",
    "import pandas as pd\n",
    "import shutil\n",
    "from lib.utils import BASE_DIR,DATA_DIR,OUTPUT_DIR,get_full_outcomes\n",
    "from collections.abc import Callable\n",
    "\n",
    "\n",
    "def load_markdown(filename:str):\n",
    "    with open(filename) as f:\n",
    "        text = f.read()\n",
    "    return text\n",
    "\n",
    "def add_title_level(markdown_text:str,level_to_add:int):\n",
    "    prefix = \"#\" * level_to_add\n",
    "    return re.sub(r\"^(#+) \",prefix+r\"\\1 \",markdown_text, flags=re.MULTILINE)\n",
    "\n",
    "def replace_image_path(markdown_text:str,replace_func:Callable[[str],str])->str:\n",
    "    def match_fn(match):\n",
    "        new_path = replace_func(match.group(2))\n",
    "        return f\"![{match.group(1)}]({new_path})\"\n",
    "    return re.sub(r\"!\\[(.*?)\\] *\\((.+?)\\)\",match_fn,markdown_text )\n",
    "\n",
    "\n",
    "os.makedirs(OUTPUT_DIR,exist_ok=True)\n",
    "\n",
    "data_path = path.join(DATA_DIR,\"documents\")\n",
    "dirs = [f for f in os.listdir(data_path) if not os.path.isfile(os.path.join(data_path, f))] \n",
    "for dir in dirs:\n",
    "    shutil.copytree(os.path.join(data_path, dir),os.path.join(OUTPUT_DIR,dir),dirs_exist_ok=True)\n",
    "\n",
    "\n",
    "document_index = pd.read_csv(path.join(DATA_DIR,\"documents_index.csv\"))\n",
    "document_index\n",
    "\n",
    "output_dict = {}\n",
    "for item in document_index.itertuples():\n",
    "    filename = path.join(DATA_DIR,\"documents\",item.filename+\".md\")\n",
    "    text = load_markdown(filename)\n",
    "    text = add_title_level(text,1)\n",
    "    title = \"\\n\\n# \"+item.title +\"\\n\\n\"\n",
    "    prev = output_dict.get(item.section,\"\")\n",
    "    \n",
    "    output_dict[item.section] = prev+\"\\n\\n\"+title+text\n",
    "\n",
    "bundle = \"\"\n",
    "for key,item in output_dict.items():\n",
    "    sections = list(key.split(\"/\"))\n",
    "    item = add_title_level(item,len(sections))\n",
    "    title = \"#\" * len(sections) +\" \"+sections[-1]+\"\\n\\n\"\n",
    "    bundle += title + item +\"\\n\\n\"\n",
    "\n",
    "bundle = replace_image_path(bundle,lambda p: os.path.join(\"output\",p))\n",
    "\n",
    "with open(path.join(OUTPUT_DIR,\"bundle_documents.md\"),\"w\") as f:\n",
    "    f.write(bundle)\n",
    "\n",
    "with open(path.join(OUTPUT_DIR,\"documents_for_tex.md\"),\"w\") as f:\n",
    "    f.write(bundle)\n",
    "\n",
    "with open(path.join(OUTPUT_DIR,\"documents_for_docx.md\"),\"w\") as f:\n",
    "    f.write(bundle)\n",
    "\n",
    "\n",
    "output_dict"
   ]
  }
 ],
 "metadata": {
  "kernelspec": {
   "display_name": "Python 3.10.3 64-bit",
   "language": "python",
   "name": "python3"
  },
  "language_info": {
   "codemirror_mode": {
    "name": "ipython",
    "version": 3
   },
   "file_extension": ".py",
   "mimetype": "text/x-python",
   "name": "python",
   "nbconvert_exporter": "python",
   "pygments_lexer": "ipython3",
   "version": "3.10.3"
  },
  "vscode": {
   "interpreter": {
    "hash": "949777d72b0d2535278d3dc13498b2535136f6dfe0678499012e853ee9abcab1"
   }
  }
 },
 "nbformat": 4,
 "nbformat_minor": 2
}
