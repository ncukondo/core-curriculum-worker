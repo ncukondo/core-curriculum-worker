{
 "cells": [
  {
   "cell_type": "code",
   "execution_count": 2,
   "metadata": {},
   "outputs": [
    {
     "name": "stdout",
     "output_type": "stream",
     "text": [
      "連携編集用 in 2022-02-28T02:16:53.397Z\n",
      "社会編集用 in 2022-02-28T02:16:47.937Z\n",
      "生涯編集用 in 2022-02-28T02:16:45.748Z\n",
      "情報編集用 in 2022-02-28T02:14:56.219Z\n",
      "科学的探究_0131版_査読 in 2022-02-28T02:13:55.411Z\n",
      "情報・科学技術を活かす能力_0131版_査読 in 2022-02-28T02:13:50.792Z\n",
      "専門知識に基づいた問題解決能力_0131版_査読 in 2022-02-28T02:13:48.168Z\n",
      "総合的に患者・生活者をみる姿勢_0131版_査読 in 2022-02-28T02:13:45.382Z\n",
      "プロ編集用 in 2022-02-28T02:13:32.396Z\n",
      "プロフェッショナリズム_0131版_査読 in 2022-02-28T02:00:48.893Z\n",
      "多職種連携能力_0131版_査読 in 2022-02-28T01:59:31.916Z\n",
      "コミュニケーション能力_0131版_査読 in 2022-02-28T01:41:51.938Z\n",
      "総合編集用 in 2022-02-28T01:41:49.783Z\n",
      "社会における医療の役割の理解_0131版_査読 in 2022-02-28T01:41:47.857Z\n",
      "患者ケアのための診療技能_0131版_査読 in 2022-02-28T01:41:27.184Z\n",
      "知識編集用 in 2022-02-28T01:39:57.745Z\n",
      "コミュ編集用 in 2022-02-28T01:34:57.284Z\n",
      "生涯にわたって共に学ぶ姿勢_0131版_査読 in 2022-02-28T01:21:20.553Z\n",
      "科学編集用 in 2022-02-28T01:03:58.570Z\n",
      "技能編集用 in 2022-02-28T00:58:00.853Z\n"
     ]
    }
   ],
   "source": [
    "import os\n",
    "import tempfile\n",
    "import pandas as pd\n",
    "import csv\n",
    "\n",
    "from lib.export_google_sheets import export_google_sheets\n",
    "\n",
    "\n",
    "folder_ids=[\n",
    "        '1HhIkzwUMBTfStSCyhSRf1SkbQq21hLnM',\n",
    "        '1NrjWTGweLNoUU1n-EH9yhIU5ZBUHOLs1',\n",
    "        '1FlCwwi71s1BI4uhOf2CefX85byj1Alo_'\n",
    "]\n",
    "DIST_DIR=\"./raw/sheets/\"\n",
    "\n",
    "try:\n",
    "    with tempfile.TemporaryDirectory() as temp_dir:\n",
    "        file_list=export_google_sheets(folder_ids,temp_dir)\n",
    "        for file in file_list:\n",
    "            book = pd.ExcelFile(file[\"export_path\"])\n",
    "            dir_name = os.path.join(DIST_DIR,file['name'])\n",
    "            os.makedirs(dir_name,exist_ok=True)\n",
    "            for name in book.sheet_names:\n",
    "                sheet:pd.DataFrame = book.parse(name)\n",
    "                sheet.to_csv(os.path.join(dir_name,f\"{name}.csv\"),encoding=\"utf_8_sig\",index=False,)\n",
    "except:\n",
    "    import traceback\n",
    "    traceback.print_exc()"
   ]
  }
 ],
 "metadata": {
  "interpreter": {
   "hash": "d4d1e4263499bec80672ea0156c357c1ee493ec2b1c70f0acce89fc37c4a6abe"
  },
  "kernelspec": {
   "display_name": "Python 3.9.7 64-bit ('base': conda)",
   "language": "python",
   "name": "python3"
  },
  "language_info": {
   "codemirror_mode": {
    "name": "ipython",
    "version": 3
   },
   "file_extension": ".py",
   "mimetype": "text/x-python",
   "name": "python",
   "nbconvert_exporter": "python",
   "pygments_lexer": "ipython3",
   "version": "3.9.7"
  },
  "orig_nbformat": 4
 },
 "nbformat": 4,
 "nbformat_minor": 2
}
