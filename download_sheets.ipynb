{
 "cells": [
  {
   "cell_type": "code",
   "execution_count": 8,
   "metadata": {},
   "outputs": [
    {
     "name": "stdout",
     "output_type": "stream",
     "text": [
      "総合編集用 in 2022-03-15T06:43:29.818Z\n",
      "H28 in 2022-03-15T06:42:31.346Z\n"
     ]
    }
   ],
   "source": [
    "import os\n",
    "import tempfile\n",
    "import pandas as pd\n",
    "import csv\n",
    "\n",
    "from lib.export_google_sheets import export_google_sheets\n",
    "\n",
    "\n",
    "folder_ids=[\n",
    "        '1IDl3cSc8u5y4Gf13_PBCEZdFFnDv6Ilz', #入力\n",
    "        '1FlCwwi71s1BI4uhOf2CefX85byj1Alo_', #各チーム編集用シート\n",
    "]\n",
    "DIST_DIR=\"./sheets/\"\n",
    "\n",
    "os.makedirs(DIST_DIR,exist_ok=True)\n",
    "\n",
    "try:\n",
    "    with tempfile.TemporaryDirectory() as temp_dir:\n",
    "        file_list=export_google_sheets(folder_ids,temp_dir,info_stor_file=f\"{DIST_DIR}sheets_info.json\")\n",
    "        for file in file_list:\n",
    "            book = pd.ExcelFile(file[\"export_path\"])\n",
    "            dir_name = os.path.join(DIST_DIR,file['name'])\n",
    "            os.makedirs(dir_name,exist_ok=True)\n",
    "            for name in book.sheet_names:\n",
    "                sheet:pd.DataFrame = book.parse(name)\n",
    "                sheet.to_csv(os.path.join(dir_name,f\"{name}.csv\"),quoting=csv.QUOTE_NONNUMERIC,encoding=\"utf_8_sig\",index=False,)\n",
    "except:\n",
    "    import traceback\n",
    "    traceback.print_exc()"
   ]
  }
 ],
 "metadata": {
  "interpreter": {
   "hash": "d4d1e4263499bec80672ea0156c357c1ee493ec2b1c70f0acce89fc37c4a6abe"
  },
  "kernelspec": {
   "display_name": "Python 3.9.7 64-bit ('base': conda)",
   "language": "python",
   "name": "python3"
  },
  "language_info": {
   "codemirror_mode": {
    "name": "ipython",
    "version": 3
   },
   "file_extension": ".py",
   "mimetype": "text/x-python",
   "name": "python",
   "nbconvert_exporter": "python",
   "pygments_lexer": "ipython3",
   "version": "3.9.10"
  },
  "orig_nbformat": 4
 },
 "nbformat": 4,
 "nbformat_minor": 2
}
