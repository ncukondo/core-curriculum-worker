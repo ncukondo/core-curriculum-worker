{
 "cells": [
  {
   "cell_type": "code",
   "execution_count": null,
   "metadata": {},
   "outputs": [],
   "source": [
    "import pandas as pd\n",
    "import re\n",
    "\n",
    "from lib.utils import DATA_DIR,TABLES_DIR,OUTPUT_DIR\n",
    "\n",
    "with open(f\"{DATA_DIR}/outcomes.md\",\"r\") as f:\n",
    "    outcomes_md = f.read()\n",
    "\n",
    "\n",
    "outcomes_md=re.sub(r\"(\\n# )\",r\"\\n\\\\newpage\\n\\1\",outcomes_md)\n",
    "\n",
    "outcomes_md=r\"\"\"---\n",
    "title: \"医学教育モデル・コア・カリキュラム\"\n",
    "header-includes: \n",
    "- \\usepackage{multirow}\n",
    "- \\usepackage{xltabular}\n",
    "- \\usepackage{longtable}\n",
    "- \\usepackage{ltablex}\n",
    "- \\usepackage {booktabs}\n",
    "figureTitle: \"図 \"\n",
    "tableTitle: \"表 \"\n",
    "listingTitle: \"コード \"\n",
    "figPrefix: \"図.\"\n",
    "eqnPrefix: \"式.\"\n",
    "tblPrefix: \"表.\"\n",
    "lstPrefix: \"コード.\"\n",
    "---\n",
    "\"\"\"+outcomes_md\n",
    "\n",
    "outcomes_md += f\"\\n\\\\newpage\\n\\n# 別表\\n\\n\"\n",
    "\n",
    "tables = \"\"\n",
    "\n",
    "with open(f\"{OUTPUT_DIR}/tables.tex\",\"r\") as f:\n",
    "    latex_tables = f.read()\n",
    "\n",
    "outcomes_md += latex_tables\n",
    "\n",
    "\n",
    "with open(f\"{OUTPUT_DIR}/outcomes_for_tex.md\",\"w\") as f:\n",
    "    f.write(outcomes_md)\n",
    "\n",
    "print(\"output... outcomes_for_tex.md\")\n",
    "\n",
    "outcomes_md\n"
   ]
  }
 ],
 "metadata": {
  "interpreter": {
   "hash": "949777d72b0d2535278d3dc13498b2535136f6dfe0678499012e853ee9abcab1"
  },
  "kernelspec": {
   "display_name": "Python 3.10.3 64-bit",
   "language": "python",
   "name": "python3"
  },
  "language_info": {
   "codemirror_mode": {
    "name": "ipython",
    "version": 3
   },
   "file_extension": ".py",
   "mimetype": "text/x-python",
   "name": "python",
   "nbconvert_exporter": "python",
   "pygments_lexer": "ipython3",
   "version": "3.10.3"
  }
 },
 "nbformat": 4,
 "nbformat_minor": 2
}
