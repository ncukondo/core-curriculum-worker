{
 "cells": [
  {
   "cell_type": "code",
   "execution_count": null,
   "metadata": {},
   "outputs": [],
   "source": [
    "import pandas as pd\n",
    "import re\n",
    "\n",
    "from lib.utils import DATA_DIR,TABLES_DIR,OUTPUT_DIR\n",
    "\n",
    "with open(f\"{DATA_DIR}/outcomes.md\",\"r\") as f:\n",
    "    outcomes_md = f.read()\n",
    "\n",
    "definitions = pd.read_csv(f\"{DATA_DIR}/definitions.csv\").set_index(\"データ中の記述\")\n",
    "def_keys = \"|\".join([re.escape(x) for x in definitions.index])\n",
    "def_dict = {k: {\"in_text\":definitions.at[k,\"文書中の記述\"],\"ref\":definitions.at[k,\"文書中の注釈\"]} for k in definitions.index}\n",
    "def_dict\n",
    "def_list = []\n",
    "\n",
    "i=0\n",
    "\n",
    "def replace_fn(reg):\n",
    "    global i\n",
    "    global def_list\n",
    "    s=reg.group(0)\n",
    "    if s in def_dict:\n",
    "        i +=1\n",
    "        def_list.append(f'[^{i}]: {def_dict[s][\"ref\"]}')\n",
    "        return f'{def_dict[s][\"in_text\"]}[^{i}]'\n",
    "    else:\n",
    "        return s\n",
    "\n",
    "outcomes_md = re.sub(def_keys,replace_fn,outcomes_md)\n",
    "outcomes_md = outcomes_md +\"\\n\\n\"+\"\\n\".join(def_list)+\"\\n\\n\"\n",
    "outcomes_md\n",
    "\n",
    "\n",
    "outcomes_md=re.sub(r\"(\\n# )\",r\"\\n\\\\newpage\\n\\1\",outcomes_md)\n",
    "\n",
    "outcomes_md=r\"\"\"---\n",
    "title: \"医学教育モデル・コア・カリキュラム\"\n",
    "header-includes: \n",
    "- \\usepackage{multirow}\n",
    "- \\usepackage{xltabular}\n",
    "- \\usepackage{longtable}\n",
    "- \\usepackage{ltablex}\n",
    "- \\usepackage {booktabs}\n",
    "figureTitle: \"図 \"\n",
    "tableTitle: \"表 \"\n",
    "listingTitle: \"コード \"\n",
    "figPrefix: \"図.\"\n",
    "eqnPrefix: \"式.\"\n",
    "tblPrefix: \"表.\"\n",
    "lstPrefix: \"コード.\"\n",
    "---\n",
    "\"\"\"+outcomes_md\n",
    "\n",
    "outcomes_md += f\"\\n\\\\newpage\\n\\n# 別表\\n\\n\"\n",
    "\n",
    "tables = \"\"\n",
    "\n",
    "with open(f\"{OUTPUT_DIR}/tables.tex\",\"r\") as f:\n",
    "    latex_tables = f.read()\n",
    "\n",
    "outcomes_md += latex_tables\n",
    "\n",
    "\n",
    "\n"
   ]
  },
  {
   "cell_type": "code",
   "execution_count": null,
   "metadata": {},
   "outputs": [],
   "source": [
    "with open(f\"{OUTPUT_DIR}/outcomes_for_tex.md\",\"w\") as f:\n",
    "    f.write(outcomes_md)\n",
    "\n",
    "print(\"output... outcomes_for_tex.md\")\n",
    "\n",
    "outcomes_md"
   ]
  }
 ],
 "metadata": {
  "interpreter": {
   "hash": "949777d72b0d2535278d3dc13498b2535136f6dfe0678499012e853ee9abcab1"
  },
  "kernelspec": {
   "display_name": "Python 3.10.3 64-bit",
   "language": "python",
   "name": "python3"
  },
  "language_info": {
   "codemirror_mode": {
    "name": "ipython",
    "version": 3
   },
   "file_extension": ".py",
   "mimetype": "text/x-python",
   "name": "python",
   "nbconvert_exporter": "python",
   "pygments_lexer": "ipython3",
   "version": "3.10.3"
  }
 },
 "nbformat": 4,
 "nbformat_minor": 2
}
