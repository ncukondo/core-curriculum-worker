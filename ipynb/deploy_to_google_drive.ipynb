{
 "cells": [
  {
   "cell_type": "code",
   "execution_count": 2,
   "metadata": {},
   "outputs": [
    {
     "name": "stdout",
     "output_type": "stream",
     "text": [
      "upload ./dist/r4_draft.md to 1jAiU3xoIImq2lEZw9qtl5t0egHlCSknU\n",
      "upload ./dist/r4_draft.pdf to 1FfD9wd0YyF_BV3n0nhJd3DZR3ZdeVn-t\n",
      "upload ./dist/r4_draft.docx to 1qL-JUlHjA6efd3CXohSIL2zfhAjp9H2Z\n",
      "upload ./dist/r4.md to 1bA7E_GivqcdmmJQR39HeK-L4aa-PF01O\n",
      "upload ./dist/r4.pdf to 18pgvXBxM4P8WOeoD2N7svI5mJcVRKXc_\n",
      "upload ./dist/r4.docx to 11aILqkUyxc04xz1u5pbeVK2HQ5n7sJe8\n"
     ]
    }
   ],
   "source": [
    "import os\n",
    "import json\n",
    "import tempfile\n",
    "\n",
    "from dateutil.parser import parse as parse_date\n",
    "\n",
    "from lib.google_drive import from_service_account\n",
    "\n",
    "folder_id=\"1L4fQFNd42HEN5mPEgicRxZe3rY5_ZliB\"\n",
    "\n",
    "drive = from_service_account()\n",
    "file_list= [\n",
    "    \"./dist/r4_draft.md\",\n",
    "    \"./dist/r4_draft.pdf\",\n",
    "    \"./dist/r4_draft.docx\",\n",
    "    \"./dist/r4.md\",\n",
    "    \"./dist/r4.pdf\",\n",
    "    \"./dist/r4.docx\",\n",
    "]\n",
    "for file_path in file_list:\n",
    "    id=drive.update_by_name(file_path,folder_id)\n",
    "    print(f\"deploy {os.path.basename(file_path)} as {id}\")"
   ]
  }
 ],
 "metadata": {
  "interpreter": {
   "hash": "d4d1e4263499bec80672ea0156c357c1ee493ec2b1c70f0acce89fc37c4a6abe"
  },
  "kernelspec": {
   "display_name": "Python 3.9.7 ('base')",
   "language": "python",
   "name": "python3"
  },
  "language_info": {
   "codemirror_mode": {
    "name": "ipython",
    "version": 3
   },
   "file_extension": ".py",
   "mimetype": "text/x-python",
   "name": "python",
   "nbconvert_exporter": "python",
   "pygments_lexer": "ipython3",
   "version": "3.9.7"
  },
  "orig_nbformat": 4
 },
 "nbformat": 4,
 "nbformat_minor": 2
}
