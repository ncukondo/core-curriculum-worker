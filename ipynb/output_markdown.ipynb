{
 "cells": [
  {
   "cell_type": "code",
   "execution_count": null,
   "metadata": {},
   "outputs": [],
   "source": [
    "import os\n",
    "\n",
    "import pandas as pd\n",
    "import re\n",
    "\n",
    "from lib.dataframe_to_text import dataframe_to_text\n",
    "from lib.utils import DATA_DIR,TABLES_DIR,OUTPUT_DIR\n",
    "\n",
    "os.makedirs(OUTPUT_DIR,exist_ok=True)\n",
    "\n",
    "r4=pd.read_csv(f\"{DATA_DIR}/outcomes.csv\")\n",
    "r4_l1=pd.read_csv(f\"{DATA_DIR}/outcomes_l1.csv\")\n",
    "r4_l2=pd.read_csv(f\"{DATA_DIR}/outcomes_l2.csv\")\n",
    "r4=pd.merge(r4_l2,r4,how=\"right\",on=\"第2層\")\n",
    "r4=pd.merge(r4_l1,r4,how=\"right\",on=\"第1層\")\n",
    "r4=r4.dropna(subset=[\"第1層\",\"第2層\",\"第3層\",\"第4層\"]).fillna(\"\")\n",
    "\n",
    "r4_to_md=pd.DataFrame(data=[],columns=[\"第1層\",\"第2層\",\"第3層\",\"第4層\"])\n",
    "r4_to_md[\"第1層\"]=\"\\n\"+\"# \"+r4[\"第1層\"]+\"\\n\\n\"+r4[\"第1層説明\"]+\"\\n\"\n",
    "r4_to_md[\"第2層\"]=\"\\n\"+\"## \"+r4[\"第2層\"]+\"\\n\\n\"+r4[\"第2層説明\"]+\"\\n\"\n",
    "r4_to_md[\"第3層\"]=\"\\n\"+\"### \"+r4[\"第3層\"]+\"\\n\"\n",
    "r4_to_md[\"第4層\"]=\"1. \"+r4[\"第4層\"]\n",
    "r4_to_md=r4_to_md.dropna(subset=[\"第1層\",\"第2層\",\"第3層\",\"第4層\"])\n",
    "\n",
    "r4_md = dataframe_to_text(r4_to_md)\n",
    "\n",
    "with open(f\"{OUTPUT_DIR}/outcomes.md\",\"w\") as f:\n",
    "    f.write(r4_md)\n",
    "print(\"output... ./dist/outcomes.md\")\n",
    "\n",
    "r4\n"
   ]
  },
  {
   "cell_type": "code",
   "execution_count": null,
   "metadata": {},
   "outputs": [],
   "source": [
    "r4_md=re.sub(r\"(\\n# )\",r\"\\n\\\\newpage\\n\\1\",r4_md)\n",
    "\n",
    "r4_md=r\"\"\"---\n",
    "title: \"医学教育モデル・コア・カリキュラム\"\n",
    "header-includes: \n",
    "- \\usepackage{multirow}\n",
    "- \\usepackage{xltabular}\n",
    "- \\usepackage{longtable}\n",
    "- \\usepackage{ltablex}\n",
    "- \\usepackage {booktabs}\n",
    "figureTitle: \"図 \"\n",
    "tableTitle: \"表 \"\n",
    "listingTitle: \"コード \"\n",
    "figPrefix: \"図.\"\n",
    "eqnPrefix: \"式.\"\n",
    "tblPrefix: \"表.\"\n",
    "lstPrefix: \"コード.\"\n",
    "---\n",
    "\"\"\"+r4_md\n",
    "\n",
    "r4_md += f\"\\n\\\\newpage\\n\\n# 別表\\n\\n\"\n",
    "\n",
    "tables = \"\"\n",
    "\n",
    "with open(f\"{OUTPUT_DIR}/tables.tex\",\"r\") as f:\n",
    "    latex_tables = f.read()\n",
    "print(\"output... ./dist/r4_draft_tables.tex\")\n",
    "\n",
    "r4_md += latex_tables\n",
    "\n",
    "\n",
    "with open(\"./dist/r4_draft_tex.md\",\"w\") as f:\n",
    "    f.write(r4_md)\n",
    "\n",
    "print(\"output... ./dist/r4_draft_tex.md\")\n",
    "\n",
    "r4_to_md_draft\n"
   ]
  }
 ],
 "metadata": {
  "interpreter": {
   "hash": "d4d1e4263499bec80672ea0156c357c1ee493ec2b1c70f0acce89fc37c4a6abe"
  },
  "kernelspec": {
   "display_name": "Python 3.9.7 ('base')",
   "language": "python",
   "name": "python3"
  },
  "language_info": {
   "codemirror_mode": {
    "name": "ipython",
    "version": 3
   },
   "file_extension": ".py",
   "mimetype": "text/x-python",
   "name": "python",
   "nbconvert_exporter": "python",
   "pygments_lexer": "ipython3",
   "version": "3.10.3"
  }
 },
 "nbformat": 4,
 "nbformat_minor": 2
}
