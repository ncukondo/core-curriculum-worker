{
 "cells": [
  {
   "cell_type": "code",
   "execution_count": 3,
   "metadata": {},
   "outputs": [
    {
     "name": "stdout",
     "output_type": "stream",
     "text": [
      "output... ./dist/outcomes.md\n"
     ]
    }
   ],
   "source": [
    "import pandas as pd\n",
    "import re\n",
    "\n",
    "from lib.dataframe_to_text import dataframe_to_text\n",
    "\n",
    "\n",
    "r4=pd.read_csv(\"./output/outcomes.csv\")\n",
    "r4_l1=pd.read_csv(\"./output/outcomes_l1.csv\")\n",
    "r4_l2=pd.read_csv(\"./output/outcomes_l2.csv\")\n",
    "r4=pd.merge(r4_l2,r4,how=\"right\",on=\"第2層\")\n",
    "r4=pd.merge(r4_l1,r4,how=\"right\",on=\"第1層\")\n",
    "r4=r4.dropna(subset=[\"第1層\",\"第2層\",\"第3層\",\"第4層\"]).fillna(\"\")\n",
    "\n",
    "r4_to_md_draft=pd.DataFrame(data=[],columns=[\"第1層\",\"第2層\",\"第3層\",\"第4層\"])\n",
    "r4_to_md_draft[\"第1層\"]=\"\\n\"+\"# \"+r4[\"第1層\"]+\"\\n\\n\"+r4[\"第1層説明\"]+\"\\n\"\n",
    "r4_to_md_draft[\"第2層\"]=\"\\n\"+\"## \"+r4[\"第2層\"]+\"\\n\\n\"+r4[\"第2層説明\"]+\"\\n\"\n",
    "r4_to_md_draft[\"第3層\"]=\"\\n\"+\"### \"+r4[\"第3層\"]+\"\\n\"\n",
    "r4_to_md_draft[\"第4層\"]=\"1. \"+r4[\"第4層\"]\n",
    "r4_to_md_draft=r4_to_md_draft.dropna(subset=[\"第1層\",\"第2層\",\"第3層\",\"第4層\"])\n",
    "\n",
    "r4_md_draft = dataframe_to_text(r4_to_md_draft)\n",
    "\n",
    "with open(\"./output/outcomes.md\",\"w\") as f:\n",
    "    f.write(r4_md_draft)\n",
    "print(\"output... ./dist/outcomes.md\")\n"
   ]
  }
 ],
 "metadata": {
  "interpreter": {
   "hash": "d4d1e4263499bec80672ea0156c357c1ee493ec2b1c70f0acce89fc37c4a6abe"
  },
  "kernelspec": {
   "display_name": "Python 3.9.7 ('base')",
   "language": "python",
   "name": "python3"
  },
  "language_info": {
   "codemirror_mode": {
    "name": "ipython",
    "version": 3
   },
   "file_extension": ".py",
   "mimetype": "text/x-python",
   "name": "python",
   "nbconvert_exporter": "python",
   "pygments_lexer": "ipython3",
   "version": "3.9.10"
  },
  "orig_nbformat": 4
 },
 "nbformat": 4,
 "nbformat_minor": 2
}
