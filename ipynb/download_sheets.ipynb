{
 "cells": [
  {
   "cell_type": "code",
   "execution_count": 1,
   "metadata": {},
   "outputs": [
    {
     "ename": "ImportError",
     "evalue": "attempted relative import with no known parent package",
     "output_type": "error",
     "traceback": [
      "\u001b[0;31m---------------------------------------------------------------------------\u001b[0m",
      "\u001b[0;31mImportError\u001b[0m                               Traceback (most recent call last)",
      "\u001b[1;32m/workspaces/core-curriculum-worker/ipynb/download_sheets.ipynb Cell 1'\u001b[0m in \u001b[0;36m<cell line: 7>\u001b[0;34m()\u001b[0m\n\u001b[1;32m      <a href='vscode-notebook-cell://dev-container%2B5c5c77736c2e6c6f63616c686f73745c5562756e74755c686f6d655c6e63756b6f6e646f5c6465765c636f72652d637572726963756c756d2d776f726b6572/workspaces/core-curriculum-worker/ipynb/download_sheets.ipynb#ch0000000vscode-remote?line=3'>4</a>\u001b[0m \u001b[39mimport\u001b[39;00m \u001b[39mcsv\u001b[39;00m\n\u001b[1;32m      <a href='vscode-notebook-cell://dev-container%2B5c5c77736c2e6c6f63616c686f73745c5562756e74755c686f6d655c6e63756b6f6e646f5c6465765c636f72652d637572726963756c756d2d776f726b6572/workspaces/core-curriculum-worker/ipynb/download_sheets.ipynb#ch0000000vscode-remote?line=5'>6</a>\u001b[0m \u001b[39mfrom\u001b[39;00m \u001b[39mlib\u001b[39;00m\u001b[39m.\u001b[39;00m\u001b[39mutils\u001b[39;00m \u001b[39mimport\u001b[39;00m BASE_DIR\n\u001b[0;32m----> <a href='vscode-notebook-cell://dev-container%2B5c5c77736c2e6c6f63616c686f73745c5562756e74755c686f6d655c6e63756b6f6e646f5c6465765c636f72652d637572726963756c756d2d776f726b6572/workspaces/core-curriculum-worker/ipynb/download_sheets.ipynb#ch0000000vscode-remote?line=6'>7</a>\u001b[0m \u001b[39mfrom\u001b[39;00m \u001b[39m.\u001b[39;00m\u001b[39m.\u001b[39;00m\u001b[39mlib\u001b[39;00m\u001b[39m.\u001b[39;00m\u001b[39mexport_google_sheets\u001b[39;00m \u001b[39mimport\u001b[39;00m export_google_sheets\n\u001b[1;32m     <a href='vscode-notebook-cell://dev-container%2B5c5c77736c2e6c6f63616c686f73745c5562756e74755c686f6d655c6e63756b6f6e646f5c6465765c636f72652d637572726963756c756d2d776f726b6572/workspaces/core-curriculum-worker/ipynb/download_sheets.ipynb#ch0000000vscode-remote?line=9'>10</a>\u001b[0m folder_ids\u001b[39m=\u001b[39m[\n\u001b[1;32m     <a href='vscode-notebook-cell://dev-container%2B5c5c77736c2e6c6f63616c686f73745c5562756e74755c686f6d655c6e63756b6f6e646f5c6465765c636f72652d637572726963756c756d2d776f726b6572/workspaces/core-curriculum-worker/ipynb/download_sheets.ipynb#ch0000000vscode-remote?line=10'>11</a>\u001b[0m         \u001b[39m'\u001b[39m\u001b[39m1IDl3cSc8u5y4Gf13_PBCEZdFFnDv6Ilz\u001b[39m\u001b[39m'\u001b[39m, \u001b[39m#入力\u001b[39;00m\n\u001b[1;32m     <a href='vscode-notebook-cell://dev-container%2B5c5c77736c2e6c6f63616c686f73745c5562756e74755c686f6d655c6e63756b6f6e646f5c6465765c636f72652d637572726963756c756d2d776f726b6572/workspaces/core-curriculum-worker/ipynb/download_sheets.ipynb#ch0000000vscode-remote?line=11'>12</a>\u001b[0m         \u001b[39m'\u001b[39m\u001b[39m1FlCwwi71s1BI4uhOf2CefX85byj1Alo_\u001b[39m\u001b[39m'\u001b[39m, \u001b[39m#各チーム編集用シート\u001b[39;00m\n\u001b[1;32m     <a href='vscode-notebook-cell://dev-container%2B5c5c77736c2e6c6f63616c686f73745c5562756e74755c686f6d655c6e63756b6f6e646f5c6465765c636f72652d637572726963756c756d2d776f726b6572/workspaces/core-curriculum-worker/ipynb/download_sheets.ipynb#ch0000000vscode-remote?line=12'>13</a>\u001b[0m ]\n\u001b[1;32m     <a href='vscode-notebook-cell://dev-container%2B5c5c77736c2e6c6f63616c686f73745c5562756e74755c686f6d655c6e63756b6f6e646f5c6465765c636f72652d637572726963756c756d2d776f726b6572/workspaces/core-curriculum-worker/ipynb/download_sheets.ipynb#ch0000000vscode-remote?line=13'>14</a>\u001b[0m DIST_DIR\u001b[39m=\u001b[39m\u001b[39mf\u001b[39m\u001b[39m\"\u001b[39m\u001b[39m{\u001b[39;00mBASE_DIR\u001b[39m}\u001b[39;00m\u001b[39m/sheets/\u001b[39m\u001b[39m\"\u001b[39m\n",
      "\u001b[0;31mImportError\u001b[0m: attempted relative import with no known parent package"
     ]
    }
   ],
   "source": [
    "import os\n",
    "import tempfile\n",
    "import pandas as pd\n",
    "import csv\n",
    "\n",
    "from lib.utils import BASE_DIR\n",
    "from lib.export_google_sheets import export_google_sheets\n",
    "\n",
    "\n",
    "folder_ids=[\n",
    "        '1IDl3cSc8u5y4Gf13_PBCEZdFFnDv6Ilz', #入力\n",
    "        '1FlCwwi71s1BI4uhOf2CefX85byj1Alo_', #各チーム編集用シート\n",
    "]\n",
    "DIST_DIR=f\"{BASE_DIR}/sheets/\"\n",
    "\n",
    "os.makedirs(DIST_DIR,exist_ok=True)\n",
    "\n",
    "try:\n",
    "    with tempfile.TemporaryDirectory() as temp_dir:\n",
    "        file_list=export_google_sheets(folder_ids,temp_dir,info_stor_file=f\"{DIST_DIR}sheets_info.json\")\n",
    "        for file in file_list:\n",
    "            book = pd.ExcelFile(file[\"export_path\"])\n",
    "            dir_name = os.path.join(DIST_DIR,file['name'])\n",
    "            os.makedirs(dir_name,exist_ok=True)\n",
    "            for name in book.sheet_names:\n",
    "                sheet:pd.DataFrame = book.parse(name)\n",
    "                sheet.to_csv(os.path.join(dir_name,f\"{name}.csv\"),quoting=csv.QUOTE_NONNUMERIC,encoding=\"utf_8_sig\",index=False,)\n",
    "except:\n",
    "    import traceback\n",
    "    traceback.print_exc()"
   ]
  }
 ],
 "metadata": {
  "interpreter": {
   "hash": "d4d1e4263499bec80672ea0156c357c1ee493ec2b1c70f0acce89fc37c4a6abe"
  },
  "kernelspec": {
   "display_name": "Python 3.9.7 64-bit ('base': conda)",
   "language": "python",
   "name": "python3"
  },
  "language_info": {
   "codemirror_mode": {
    "name": "ipython",
    "version": 3
   },
   "file_extension": ".py",
   "mimetype": "text/x-python",
   "name": "python",
   "nbconvert_exporter": "python",
   "pygments_lexer": "ipython3",
   "version": "3.9.10"
  },
  "orig_nbformat": 4
 },
 "nbformat": 4,
 "nbformat_minor": 2
}
