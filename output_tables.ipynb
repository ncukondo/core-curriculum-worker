{
 "cells": [
  {
   "cell_type": "code",
   "execution_count": 8,
   "metadata": {},
   "outputs": [
    {
     "name": "stdout",
     "output_type": "stream",
     "text": [
      "output... ./dist/r4_tables.tex\n"
     ]
    }
   ],
   "source": [
    "import pandas as pd\n",
    "from lib.dataframe_to_table import make_latex_table\n",
    "from lib.dataframe_to_table import make_html_table\n",
    "from textwrap import dedent\n",
    "import glob\n",
    "\n",
    "def make_draft_tables():\n",
    "    table_index = pd.read_csv('./raw/sheets/別表一覧/別表一覧.csv')\n",
    "\n",
    "    latex_output=\"\"\n",
    "    html_output=\"\"\n",
    "    for row in table_index.itertuples():\n",
    "        file = list[0] if len(list:=glob.glob(f\"./raw/sheets/*編集用/{row.データ元}.csv\"))>0 else \"\"\n",
    "        if file==\"\":\n",
    "            continue\n",
    "        table = pd.read_csv(file)\n",
    "\n",
    "        table = table.loc[:,row.列.split(\",\")]\n",
    "        latex_output+=make_latex_table(table,row.id,group=True)+\"\\n\\n\"\n",
    "        html_output+=make_html_table(table,group=True)+\"\\n\\n\"\n",
    "\n",
    "    with open(\"./dist/r4_draft_tables.tex\",\"w\") as f:\n",
    "        f.write(latex_output)\n",
    "    with open(\"./dist/r4_draft_tables.html\",\"w\") as f:\n",
    "        f.write(html_output)\n",
    "\n",
    "    print(\"output... ./dist/r4_tables.tex\")\n",
    "\n",
    "make_draft_tables()\n"
   ]
  }
 ],
 "metadata": {
  "interpreter": {
   "hash": "d4d1e4263499bec80672ea0156c357c1ee493ec2b1c70f0acce89fc37c4a6abe"
  },
  "kernelspec": {
   "display_name": "Python 3.9.7 ('base')",
   "language": "python",
   "name": "python3"
  },
  "language_info": {
   "codemirror_mode": {
    "name": "ipython",
    "version": 3
   },
   "file_extension": ".py",
   "mimetype": "text/x-python",
   "name": "python",
   "nbconvert_exporter": "python",
   "pygments_lexer": "ipython3",
   "version": "3.9.7"
  },
  "orig_nbformat": 4
 },
 "nbformat": 4,
 "nbformat_minor": 2
}
